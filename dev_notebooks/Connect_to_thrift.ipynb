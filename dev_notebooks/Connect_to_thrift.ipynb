{
 "cells": [
  {
   "cell_type": "markdown",
   "id": "according-israeli",
   "metadata": {},
   "source": [
    "# Notebook for testing the thrift server"
   ]
  },
  {
   "cell_type": "markdown",
   "id": "twelve-module",
   "metadata": {},
   "source": [
    "verify pyhive native connectivity"
   ]
  },
  {
   "cell_type": "code",
   "execution_count": 1,
   "id": "noticed-mississippi",
   "metadata": {},
   "outputs": [],
   "source": [
    "connection_string = 'spark-thrift-server:10000'"
   ]
  },
  {
   "cell_type": "code",
   "execution_count": 17,
   "id": "smooth-bahamas",
   "metadata": {},
   "outputs": [],
   "source": [
    "from pyhive import hive\n",
    "\n",
    "connection = hive.connect(username='root', host=\"spark-thrift-server\", port=10000, auth='NOSASL')\n",
    "cursor = connection.cursor()"
   ]
  },
  {
   "cell_type": "code",
   "execution_count": 3,
   "id": "overall-village",
   "metadata": {},
   "outputs": [],
   "source": [
    "cursor.execute('SHOW DATABASES')"
   ]
  },
  {
   "cell_type": "code",
   "execution_count": 4,
   "id": "mechanical-today",
   "metadata": {},
   "outputs": [
    {
     "name": "stdout",
     "output_type": "stream",
     "text": [
      "('default',)\n"
     ]
    }
   ],
   "source": [
    "for row in cursor.fetchall():\n",
    "    print(row)"
   ]
  },
  {
   "cell_type": "code",
   "execution_count": 5,
   "id": "upper-queen",
   "metadata": {},
   "outputs": [],
   "source": [
    "cursor.execute('select * from default.yellow_taxi_pre2015 limit 10')"
   ]
  },
  {
   "cell_type": "code",
   "execution_count": 6,
   "id": "front-hudson",
   "metadata": {},
   "outputs": [
    {
     "name": "stdout",
     "output_type": "stream",
     "text": [
      "('CMT', '2013-08-15 01:49:36', '2013-08-15 01:54:55', '1', '1', '-73.986519999999999', '40.761797999999999', '1', 'N', '-73.968627999999995', '40.767684000000003', 'CRD', '6.5', '0.5', '0.5', '1', '0', '8.5')\n",
      "('CMT', '2013-08-16 07:34:24', '2013-08-16 07:46:55', '1', '3', '-73.954511999999994', '40.769570000000002', '1', 'N', '-73.987679999999997', '40.747708000000003', 'CRD', '12', '0', '0.5', '1.5', '0', '14')\n",
      "('CMT', '2013-08-14 07:27:21', '2013-08-14 07:34:31', '2', '2', '-73.997451999999996', '40.741481999999998', '1', 'N', '-73.980052999999998', '40.758218999999997', 'CRD', '7.5', '0', '0.5', '1.6000000000000001', '0', '9.5999999999999996')\n",
      "('CMT', '2013-08-14 11:39:31', '2013-08-14 11:53:16', '1', '1', '-73.995501000000004', '40.759717000000002', '1', 'N', '-73.987482999999997', '40.752685', 'CRD', '9.5', '0', '0.5', '1', '0', '11')\n",
      "('CMT', '2013-08-18 01:17:48', '2013-08-18 01:30:45', '2', '4', '-73.995198000000002', '40.735725000000002', '1', 'Y', '-73.983564999999999', '40.781328000000002', 'CRD', '14', '0.5', '0.5', '1', '0', '16')\n",
      "('CMT', '2013-08-13 13:37:45', '2013-08-13 13:48:38', '1', '2', '-73.961178000000004', '40.764966999999999', '1', 'N', '-73.976905000000002', '40.743257999999997', 'CRD', '9', '0', '0.5', '1', '0', '10.5')\n",
      "('CMT', '2013-08-12 00:01:03', '2013-08-12 00:03:40', '1', '1', '-73.990284000000003', '40.744822999999997', '1', 'N', '-73.987658999999994', '40.738211999999997', 'CRD', '4.5', '0.5', '0.5', '1', '0', '6.5')\n",
      "('CMT', '2013-08-14 08:30:04', '2013-08-14 09:16:40', '1', '14', '-73.885354000000007', '40.773125999999998', '1', 'N', '-74.011587000000006', '40.714357999999997', 'CRD', '45', '0', '0.5', '10.15', '5.3300000000000001', '60.979999999999997')\n",
      "('CMT', '2013-08-14 08:03:47', '2013-08-14 08:18:52', '3', '8', '-73.956281000000004', '40.766978999999999', '1', 'N', '-74.013565', '40.714362999999999', 'CRD', '23', '0', '0.5', '3', '0', '26.5')\n",
      "('CMT', '2013-08-14 06:30:56', '2013-08-14 06:54:51', '1', '18', '-73.959019999999995', '40.814892', '2', 'N', '-73.786001999999996', '40.643481000000001', 'CRD', '52', '0', '0.5', '11.550000000000001', '5.3300000000000001', '69.379999999999995')\n"
     ]
    }
   ],
   "source": [
    "for row in cursor.fetchall():\n",
    "    print(row)"
   ]
  },
  {
   "cell_type": "code",
   "execution_count": 18,
   "id": "nervous-damages",
   "metadata": {},
   "outputs": [
    {
     "name": "stdout",
     "output_type": "stream",
     "text": [
      "  VendorID lpep_pickup_datetime Lpep_dropoff_datetime Store_and_fwd_flag  \\\n",
      "0        2  2014-02-01 00:00:00   2014-02-01 23:25:08                  N   \n",
      "1        2  2014-02-01 00:00:00   2014-02-01 20:17:35                  N   \n",
      "2        2  2014-02-01 00:00:00   2014-02-01 14:27:37                  N   \n",
      "3        2  2014-02-01 00:00:00   2014-02-01 01:07:26                  N   \n",
      "4        2  2014-02-01 00:00:00   2014-02-01 04:04:40                  N   \n",
      "5        2  2014-02-01 00:00:00   2014-02-01 11:24:18                  N   \n",
      "6        2  2014-02-01 00:00:00   2014-02-01 20:43:09                  N   \n",
      "7        2  2014-02-01 00:00:00   2014-02-01 21:25:35                  N   \n",
      "8        2  2014-02-01 00:00:00   2014-02-01 07:36:10                  N   \n",
      "9        2  2014-02-01 00:00:00   2014-02-01 21:22:18                  N   \n",
      "\n",
      "  RateCodeID Pickup_longitude Pickup_latitude    Dropoff_longitude  \\\n",
      "0          2                0               0  -73.912254333496094   \n",
      "1          1                0               0  -73.960289001464844   \n",
      "2          1                0               0  -73.937232971191406   \n",
      "3          1                0               0  -73.947052001953125   \n",
      "4          1                0               0  -73.976493835449219   \n",
      "5          1                0               0                    0   \n",
      "6          1                0               0     -73.995849609375   \n",
      "7          1                0               0                    0   \n",
      "8          1                0               0                    0   \n",
      "9          1                0               0  -73.830276489257813   \n",
      "\n",
      "     Dropoff_latitude Passenger_count Trip_distance Fare_amount Extra MTA_tax  \\\n",
      "0  40.753227233886719               2           .89          52     0     0.5   \n",
      "1  40.761558532714844               1          2.72          11   0.5     0.5   \n",
      "2  40.758316040039063               1           .00         2.5     0     0.5   \n",
      "3  40.683628082275391               1          3.21        12.5   0.5     0.5   \n",
      "4  40.788700103759766               1          9.71          31   0.5     0.5   \n",
      "5                   0               1          3.05        13.5     0     0.5   \n",
      "6  40.764453887939453               1          4.36          15   0.5     0.5   \n",
      "7                   0               1          5.11          19   0.5     0.5   \n",
      "8                   0               1         10.33          29     0     0.5   \n",
      "9  40.893222808837891               1         10.86        31.5   0.5     0.5   \n",
      "\n",
      "  Tip_amount Tolls_amount Ehail_fee Total_amount Payment_type trip_type  \n",
      "0          0            0      None         52.5            2      None  \n",
      "1       0.75            0      None        12.75            1      None  \n",
      "2          0            0      None            3            1      None  \n",
      "3        3.9            0      None         17.4            1      None  \n",
      "4        6.3            0      None         38.3            1      None  \n",
      "5        2.7            0      None         16.7            1      None  \n",
      "6          2            0      None           18            1      None  \n",
      "7       4.88            0      None        24.88            1      None  \n",
      "8       8.58         5.33      None        43.41            1      None  \n",
      "9          0            0      None         32.5            1      None  \n"
     ]
    }
   ],
   "source": [
    "query = \"select * from green_taxi_pre2015 limit 10\"\n",
    "data = pd.read_sql(query, con=connection)\n",
    "print(data)"
   ]
  },
  {
   "cell_type": "markdown",
   "id": "disciplinary-freeze",
   "metadata": {},
   "source": [
    "# SQLAlchemy Test"
   ]
  },
  {
   "cell_type": "code",
   "execution_count": 7,
   "id": "million-emission",
   "metadata": {},
   "outputs": [],
   "source": [
    "import pandas as pd\n",
    "from sqlalchemy import create_engine\n",
    "\n",
    "host_server = 'spark-thrift-server'\n",
    "port = '10000'\n",
    "database = 'default'\n",
    "conn = f'hive://{host_server}:{port}/{database}'\n",
    "engine = create_engine(conn, connect_args={'auth': 'NOSASL'})"
   ]
  },
  {
   "cell_type": "code",
   "execution_count": 8,
   "id": "aerial-convergence",
   "metadata": {},
   "outputs": [
    {
     "name": "stdout",
     "output_type": "stream",
     "text": [
      "('default',)\n"
     ]
    }
   ],
   "source": [
    "query = \"show databases\"\n",
    "con = engine.connect()\n",
    "\n",
    "result = con.execute(query)\n",
    "\n",
    "for line in result:\n",
    "    print(line)"
   ]
  },
  {
   "cell_type": "code",
   "execution_count": 9,
   "id": "severe-platinum",
   "metadata": {},
   "outputs": [
    {
     "name": "stdout",
     "output_type": "stream",
     "text": [
      "('default', 'green_clean', False)\n",
      "('default', 'green_merged', False)\n",
      "('default', 'green_taxi_2015_h1', False)\n",
      "('default', 'green_taxi_pre2015', False)\n",
      "('default', 'yellow_taxi_pre2015', False)\n"
     ]
    }
   ],
   "source": [
    "query = \"show tables\"\n",
    "con = engine.connect()\n",
    "\n",
    "result = con.execute(query)\n",
    "\n",
    "for line in result:\n",
    "    print(line)"
   ]
  },
  {
   "cell_type": "code",
   "execution_count": 10,
   "id": "educated-climate",
   "metadata": {},
   "outputs": [
    {
     "name": "stdout",
     "output_type": "stream",
     "text": [
      "('default',)\n"
     ]
    }
   ],
   "source": [
    "query = \"show schemas\"\n",
    "con = engine.connect()\n",
    "\n",
    "result = con.execute(query)\n",
    "\n",
    "for line in result:\n",
    "    print(line)"
   ]
  },
  {
   "cell_type": "code",
   "execution_count": 11,
   "id": "incident-sweden",
   "metadata": {},
   "outputs": [
    {
     "name": "stdout",
     "output_type": "stream",
     "text": [
      "('vendor_id', 'string', '')\n",
      "('pickup_datetime', 'timestamp', '')\n",
      "('dropoff_datetime', 'timestamp', '')\n",
      "('store_and_fwd_flag', 'string', '')\n",
      "('rate_code_id', 'int', '')\n",
      "('pickup_longitude', 'float', '')\n",
      "('pickup_latitude', 'float', '')\n",
      "('dropoff_longitude', 'float', '')\n",
      "('dropoff_latitude', 'float', '')\n",
      "('passenger_count', 'int', '')\n",
      "('trip_distance', 'float', '')\n",
      "('fare_amount', 'float', '')\n",
      "('extra', 'float', '')\n",
      "('mta_tax', 'float', '')\n",
      "('tip_amount', 'float', '')\n",
      "('tolls_amount', 'float', '')\n",
      "('ehail_fee', 'float', '')\n",
      "('total_amount', 'float', '')\n",
      "('payment_type', 'int', '')\n",
      "('trip_type', 'int', '')\n",
      "('improvement_surcharge', 'float', '')\n",
      "('', '', '')\n",
      "('# Partitioning', '', '')\n",
      "('Not partitioned', '', '')\n"
     ]
    }
   ],
   "source": [
    "query = \"describe table green_clean\"\n",
    "con = engine.connect()\n",
    "\n",
    "result = con.execute(query)\n",
    "\n",
    "for line in result:\n",
    "    print(line)"
   ]
  },
  {
   "cell_type": "code",
   "execution_count": 14,
   "id": "fabulous-sunday",
   "metadata": {},
   "outputs": [
    {
     "name": "stdout",
     "output_type": "stream",
     "text": [
      "('2', '2014-02-01 00:00:00', '2014-02-01 23:25:08', 'N', '2', '0', '0', '-73.912254333496094', '40.753227233886719', '2', '.89', '52', '0', '0.5', '0', '0', None, '52.5', '2', None)\n",
      "('2', '2014-02-01 00:00:00', '2014-02-01 20:17:35', 'N', '1', '0', '0', '-73.960289001464844', '40.761558532714844', '1', '2.72', '11', '0.5', '0.5', '0.75', '0', None, '12.75', '1', None)\n",
      "('2', '2014-02-01 00:00:00', '2014-02-01 14:27:37', 'N', '1', '0', '0', '-73.937232971191406', '40.758316040039063', '1', '.00', '2.5', '0', '0.5', '0', '0', None, '3', '1', None)\n",
      "('2', '2014-02-01 00:00:00', '2014-02-01 01:07:26', 'N', '1', '0', '0', '-73.947052001953125', '40.683628082275391', '1', '3.21', '12.5', '0.5', '0.5', '3.9', '0', None, '17.4', '1', None)\n",
      "('2', '2014-02-01 00:00:00', '2014-02-01 04:04:40', 'N', '1', '0', '0', '-73.976493835449219', '40.788700103759766', '1', '9.71', '31', '0.5', '0.5', '6.3', '0', None, '38.3', '1', None)\n",
      "('2', '2014-02-01 00:00:00', '2014-02-01 11:24:18', 'N', '1', '0', '0', '0', '0', '1', '3.05', '13.5', '0', '0.5', '2.7', '0', None, '16.7', '1', None)\n",
      "('2', '2014-02-01 00:00:00', '2014-02-01 20:43:09', 'N', '1', '0', '0', '-73.995849609375', '40.764453887939453', '1', '4.36', '15', '0.5', '0.5', '2', '0', None, '18', '1', None)\n",
      "('2', '2014-02-01 00:00:00', '2014-02-01 21:25:35', 'N', '1', '0', '0', '0', '0', '1', '5.11', '19', '0.5', '0.5', '4.88', '0', None, '24.88', '1', None)\n",
      "('2', '2014-02-01 00:00:00', '2014-02-01 07:36:10', 'N', '1', '0', '0', '0', '0', '1', '10.33', '29', '0', '0.5', '8.58', '5.33', None, '43.41', '1', None)\n",
      "('2', '2014-02-01 00:00:00', '2014-02-01 21:22:18', 'N', '1', '0', '0', '-73.830276489257813', '40.893222808837891', '1', '10.86', '31.5', '0.5', '0.5', '0', '0', None, '32.5', '1', None)\n"
     ]
    }
   ],
   "source": [
    "query = \"select * from green_taxi_pre2015 limit 10\"\n",
    "con = engine.connect()\n",
    "\n",
    "result = con.execute(query)\n",
    "\n",
    "for line in result:\n",
    "    print(line)"
   ]
  }
 ],
 "metadata": {
  "kernelspec": {
   "display_name": "Python [conda env:spark]",
   "language": "python",
   "name": "conda-env-spark-py"
  },
  "language_info": {
   "codemirror_mode": {
    "name": "ipython",
    "version": 3
   },
   "file_extension": ".py",
   "mimetype": "text/x-python",
   "name": "python",
   "nbconvert_exporter": "python",
   "pygments_lexer": "ipython3",
   "version": "3.8.10"
  }
 },
 "nbformat": 4,
 "nbformat_minor": 5
}
